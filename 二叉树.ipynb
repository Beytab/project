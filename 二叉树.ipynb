{
 "cells": [
  {
   "cell_type": "markdown",
   "id": "2b75d2e5-8429-447e-ba4d-3250a0fee735",
   "metadata": {},
   "source": [
    "## 1 遍历\n",
    "### 1.1 深度优先遍历，二叉树的前中后序遍历"
   ]
  },
  {
   "cell_type": "code",
   "execution_count": 3,
   "id": "5dd4e880-3fce-4228-b763-f07fe41aa09c",
   "metadata": {},
   "outputs": [],
   "source": [
    "class Node:\n",
    "    def __init__(self, val):\n",
    "        self.val = None\n",
    "        self.left = None\n",
    "        self.right = None\n",
    "        \n",
    "\n",
    "def preorder(root: Node):\n",
    "    if root == None: return []\n",
    "    left = preorder(root.left)\n",
    "    right = preorder(root.right)\n",
    "    return [root.val] + left + right\n",
    "\n",
    "def inorder(root: Node):\n",
    "    if root == None: return []\n",
    "    left = inorder(root.left)\n",
    "    right = inorder(root.right)\n",
    "    return left + [root.val] + right\n",
    "\n",
    "\n",
    "def postorder(root: Node):\n",
    "    if root == None: return []\n",
    "    left = postorder(root.left)\n",
    "    right = postorder(root.right)\n",
    "    return left + right + [root.val]"
   ]
  },
  {
   "cell_type": "markdown",
   "id": "9d5dbb97-c594-4170-8a86-6be886e8f87c",
   "metadata": {},
   "source": [
    "### 1.2 广度优先遍历，二叉树层序遍历\n",
    "\n",
    "方法1：递归过程中需要增加一个变量，记录当前节点需要放到第几个数组中\n",
    "\n",
    "方法2: 利用队列"
   ]
  },
  {
   "cell_type": "code",
   "execution_count": null,
   "id": "8255088b-0f03-44be-b8cf-7933ba87a352",
   "metadata": {},
   "outputs": [],
   "source": [
    "# 102. Binary Tree Level Order Traversal\n",
    "def leveltraversal(root, level, ans):\n",
    "    \"\"\"\n",
    "    the function meaning: add the level tranversal result of tree into ans\n",
    "    level: record the level of current root\n",
    "    ans: answer \n",
    "    \"\"\"\n",
    "    if not root: return \n",
    "    if len(ans) == level: ans.append([])  # 如果当前根节点的值没地方写，就需要添加一个位置\n",
    "    ans[level].append(root.val)\n",
    "    leveltraversal(root.left, level + 1, ans)\n",
    "    leveltraversal(root.right, level + 1, ans)\n",
    "    return \n",
    "\n",
    "class Solution:\n",
    "    def levelOrder(self, root: TreeNode) -> List[List[int]]:\n",
    "        ans = []\n",
    "        leveltraversal(root, 0, ans)\n",
    "        return ans"
   ]
  },
  {
   "cell_type": "code",
   "execution_count": 6,
   "id": "d3f67353-741e-4d16-8f80-df82b73468af",
   "metadata": {},
   "outputs": [
    {
     "name": "stdout",
     "output_type": "stream",
     "text": [
      "1\n",
      "1\n"
     ]
    }
   ],
   "source": [
    "# this code put output of the level order traversal result into one list which has no saperate for different level\n",
    "from queue import Queue\n",
    "\n",
    "class Solution:\n",
    "    def levelOrder(self, root: TreeNode) -> List[List[int]]:\n",
    "        if not root: return []\n",
    "        ans = []\n",
    "        q = Queue()\n",
    "        q.put(root)\n",
    "        while q.qsize() > 0:\n",
    "            node = q.get()\n",
    "            if node.left != None:\n",
    "                q.put(node.left)\n",
    "\n",
    "            if node.right != None:\n",
    "                q.put(node.right)\n",
    "            \n",
    "            ans.append(node.val)\n",
    "\n",
    "        return ans\n",
    "\n",
    "# how to add seperator between different level, get out of the queue by whole level\n",
    "class Solution:\n",
    "    def levelOrder(self, root: Optional[TreeNode]) -> List[List[int]]:\n",
    "        ans = []\n",
    "        if not root: return ans\n",
    "        q = Queue()\n",
    "        q.put(root)\n",
    "        while q.qsize() > 0:\n",
    "            tmp = []\n",
    "            for i in range(q.qsize()):\n",
    "                node = q.get()\n",
    "                if node.left != None: q.put(node.left)\n",
    "                if node.right != None: q.put(node.right)\n",
    "                tmp.append(node.val)\n",
    "            ans.append(tmp)\n",
    "        return ans\n",
    "        "
   ]
  },
  {
   "cell_type": "markdown",
   "id": "41763676-fee3-4a04-bcc0-6b4cd3f742c2",
   "metadata": {},
   "source": [
    "## 2.几个概念"
   ]
  },
  {
   "cell_type": "code",
   "execution_count": 15,
   "id": "aa5c9852-ca8c-4e6e-b189-f2162bb57b7d",
   "metadata": {},
   "outputs": [
    {
     "data": {
      "text/html": [
       "<img src=\"./二叉树.png\", width=500, height=30>\n",
       "<完全二叉树（complete binary tree）; 满二叉树（full binary tree）; 完美二叉树（perfect binary tree）>\n"
      ],
      "text/plain": [
       "<IPython.core.display.HTML object>"
      ]
     },
     "metadata": {},
     "output_type": "display_data"
    }
   ],
   "source": [
    "%%html\n",
    "<img src=\"./二叉树.png\", width=500, height=30>\n",
    "<完全二叉树（complete binary tree）; 满二叉树（full binary tree）; 完美二叉树（perfect binary tree）>"
   ]
  },
  {
   "cell_type": "markdown",
   "id": "0a83b3e9-764d-4759-85a4-110106e434ae",
   "metadata": {},
   "source": [
    "## 完全二叉树的两条性质：\n",
    "\n",
    "1. 对于任意节点i：\n",
    "* 左孩子的编号：2 * i\n",
    "* 右孩子的编号：2 * i + 1\n",
    "\n",
    "重要思维：计算式和存储式之间的转化\n",
    "\n",
    "2. 可以使用连续的内存存储（数组）"
   ]
  },
  {
   "cell_type": "markdown",
   "id": "b0b45024-38d7-47b2-9311-018817ba719e",
   "metadata": {},
   "source": [
    "## 树结构的深入理解：\n",
    "\n",
    "* 节点：集合\n",
    "* 边：关系\n",
    "* 子节点：互不相交的子集，子集加起来为集合"
   ]
  },
  {
   "cell_type": "markdown",
   "id": "80b33a84-c618-480e-a46e-65645b597b0a",
   "metadata": {},
   "source": [
    "## 二叉树的作用\n",
    "### 1.数据基础"
   ]
  },
  {
   "cell_type": "code",
   "execution_count": 18,
   "id": "e7522350-1f6c-4961-bd5d-3465b1a74fca",
   "metadata": {},
   "outputs": [
    {
     "data": {
      "text/html": [
       "<img src=\"./二叉树的作用.png\", width=700, height=300>\n"
      ],
      "text/plain": [
       "<IPython.core.display.HTML object>"
      ]
     },
     "metadata": {},
     "output_type": "display_data"
    }
   ],
   "source": [
    "%%html\n",
    "<img src=\"./二叉树的作用.png\", width=700, height=300>"
   ]
  },
  {
   "cell_type": "markdown",
   "id": "43e86f7a-e6dc-48be-a06e-b2f2921d1ca8",
   "metadata": {},
   "source": [
    "### 2 左孩子右兄弟节省空间"
   ]
  },
  {
   "cell_type": "markdown",
   "id": "c491a506-84cc-4dd7-8c27-e4d6762e210c",
   "metadata": {},
   "source": [
    "n个节点的k叉树"
   ]
  },
  {
   "cell_type": "markdown",
   "id": "2136ad16-cd4f-49ec-82ef-914780eb91b9",
   "metadata": {},
   "source": [
    "## 二叉树leetcode"
   ]
  },
  {
   "cell_type": "code",
   "execution_count": 19,
   "id": "38acafce-d141-453d-9ab8-d501e0337159",
   "metadata": {
    "tags": []
   },
   "outputs": [],
   "source": [
    "# 144 preoder traversal\n",
    "# do it iteraction\n",
    "\n",
    "# 110 balanced binary tree\n",
    "# Definition for a binary tree node.\n",
    "class TreeNode:\n",
    "    def __init__(self, val=0, left=None, right=None):\n",
    "        self.val = val\n",
    "        self.left = left\n",
    "        self.right = right\n",
    "def getHeight(root):\n",
    "    # 关键是合理赋予递归函数意义\n",
    "    if not root: return 0\n",
    "    left_height = getHeight(root.left)\n",
    "    right_height = getHeight(root.right)\n",
    "    if left_height == -1 or right_height == -1: return -1\n",
    "    if abs(left_height - right_height) > 1: return -1\n",
    "    return max(left_height, right_height) + 1\n",
    "    \n",
    "class Solution:\n",
    "    def isBalanced(self, root: TreeNode) -> bool:\n",
    "        if not root: return True\n",
    "        return getHeight(root) != -1\n",
    "\n",
    "# 112. Path Sum\n",
    "\n",
    "# 105. Construct Binary Tree from Preorder and Inorder Traversal\n",
    "# 222. Count complete tree nodes\n",
    "# 方法1: idea by me level order the tree, then count node:\n",
    "# level order user two methods： one by iteration， another by queue， iteration method works less time\n",
    "# 方法2: difine the meaning function use iteration directly\n",
    "\n",
    "# 剑指offer 54: 二叉搜索树第k大的值：\n",
    "# 特点：中序遍历后结果是有序序列\n",
    "def inorder(root):\n",
    "    if not root: return []\n",
    "    return inorder(root.left) + [root.val] + inorder(root.right)\n",
    "\n",
    "class Solution:\n",
    "    def kthLargest(self, root: TreeNode, k: int) -> int:\n",
    "        inorder_traversal = inorder(root)\n",
    "        return inorder_traversal[-k]\n",
    "        \n",
    "# 方法2:\n",
    "def getCounts(root):\n",
    "    if not root: return 0\n",
    "    return getCounts(root.left) + getCounts(root.right) + 1\n",
    "\n",
    "class Solution:\n",
    "    def kthLargest(self, root: TreeNode, k: int) -> int:\n",
    "        l_r = getCounts(root.right)\n",
    "        if l_r >= k: return self.kthLargest(root.right, k) # 如果l_r 大于等于k，说明第k大的在右子树\n",
    "        if l_r + 1 == k: return root.val # 第k大的为根节点\n",
    "        return self.kthLargest(root.left, k - l_r -1) # 在左子树\n",
    "    \n",
    "# 剑指offer 26. 树的字结构\n",
    "def isMatch(A: TreeNode, B: TreeNode):\n",
    "    \"两棵树从根节点完全一致\"\n",
    "    if not B: return True\n",
    "    if not A: return False\n",
    "    if A.val != B.val: return False\n",
    "    return isMatch(A.left, B.left) & isMatch(A.right, B.right)\n",
    "\n",
    "class Solution:\n",
    "    def isSubStructure(self, A: TreeNode, B: TreeNode) -> bool:\n",
    "        if not B: return False\n",
    "        if not A: return False\n",
    "        if (A.val == B.val) & isMatch(A, B):\n",
    "            return True\n",
    "        return self.isSubStructure(A.left, B) | self.isSubStructure(A.right, B)\n",
    "    \n",
    "\n",
    "# 662.Maximum Width of binary tree\n",
    "# 利用二叉树的左子树，右子树ind * 2， ind * 2 + 1性质，记录每一层每一个节点的位置\n",
    "from queue import Queue \n",
    "\n",
    "class Solution:\n",
    "    def widthOfBinaryTree(self, root: Optional[TreeNode]) -> int:\n",
    "        q = Queue()\n",
    "        q.put([root, 0])\n",
    "\n",
    "        ans = 0\n",
    "        while q.qsize() > 0:\n",
    "            for i in range(q.qsize()):\n",
    "                tmp = q.get()\n",
    "                node, ind = tmp[0], tmp[1]\n",
    "                if i == 0: \n",
    "                    l = r = ind\n",
    "                else:\n",
    "                    r = ind\n",
    "                if node.left: q.put([node.left, ind * 2])\n",
    "                if node.right: q.put([node.right, ind * 2 + 1])\n",
    "\n",
    "            ans = max(ans, r - l + 1)\n",
    "        return ans\n",
    "\n",
    "# 968 binary tree camera\n",
    "def getDp(root, dp):\n",
    "    if not root:\n",
    "        print('null')\n",
    "        dp[0][0] = 0\n",
    "        dp[0][1] = 10000\n",
    "        dp[1][0] = 0\n",
    "        dp[1][1] = 10000\n",
    "        return \n",
    "    if (not root.left) and (not root.right):\n",
    "        print(root)\n",
    "        # 叶子结点\n",
    "        dp[0][0] = 10000\n",
    "        dp[0][1] = 1\n",
    "        dp[1][0] = 0\n",
    "        dp[1][1] = 1\n",
    "        return \n",
    "    l = [[10000, 10000], \n",
    "          [10000, 10000]] \n",
    "    r = [[10000, 10000], \n",
    "          [10000, 10000]] \n",
    "    getDp(root.left, l)\n",
    "    getDp(root.right, r)\n",
    "\n",
    "    dp[0][0] = min(l[0][1] + r[0][1], min(l[0][1] + r[0][0], l[0][0] + r[0][1]))\n",
    "    dp[0][1] = min(l[1][0] + r[1][0], l[1][1] + r[1][1], l[1][0] + r[1][1], l[1][1] + r[1][0]) + 1\n",
    "    dp[1][0] = min(dp[0][0], l[0][0] + r[0][0])\n",
    "    dp[1][1] = dp[0][1]\n",
    "    return \n",
    "\n",
    "class Solution:\n",
    "    def minCameraCover(self, root: Optional[TreeNode]) -> int:\n",
    "        dp = [[10000, 10000], \n",
    "              [10000, 10000]]   # 父节点不放/放，该节点放/不放\n",
    "\n",
    "        getDp(root, dp)\n",
    "        return min(dp[0][1], dp[0][0])\n",
    "# stuck many days cause code like this l = r = [[]], \n",
    "# in which way  variable was assigned so that l and r share saving address,\n",
    "# in which case l gonna be change too when r has adjust"
   ]
  },
  {
   "cell_type": "code",
   "execution_count": null,
   "id": "28aebc64-4892-4f71-9260-3d0a20bd4d7d",
   "metadata": {},
   "outputs": [],
   "source": []
  }
 ],
 "metadata": {
  "kernelspec": {
   "display_name": "Python 3 (ipykernel)",
   "language": "python",
   "name": "python3"
  },
  "language_info": {
   "codemirror_mode": {
    "name": "ipython",
    "version": 3
   },
   "file_extension": ".py",
   "mimetype": "text/x-python",
   "name": "python",
   "nbconvert_exporter": "python",
   "pygments_lexer": "ipython3",
   "version": "3.9.7"
  }
 },
 "nbformat": 4,
 "nbformat_minor": 5
}
